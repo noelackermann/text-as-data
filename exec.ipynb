{
 "cells": [
  {
   "cell_type": "markdown",
   "metadata": {},
   "source": [
    "## Executing the Code\n",
    "\n",
    "### 0. Importing the Required Functions"
   ]
  },
  {
   "cell_type": "code",
   "execution_count": null,
   "metadata": {
    "scrolled": true
   },
   "outputs": [],
   "source": [
    "import ipynb\n",
    "from ipynb.fs.full.functions import *"
   ]
  },
  {
   "cell_type": "markdown",
   "metadata": {},
   "source": [
    "### 1. Twint\n",
    "\n",
    "#### 1.1 Setup"
   ]
  },
  {
   "cell_type": "code",
   "execution_count": null,
   "metadata": {},
   "outputs": [],
   "source": [
    "directory = 'F:/twintscrapes/'\n",
    "\n",
    "start = '2021-02-01'                        # yyyy-mm-dd format\n",
    "end = '2021-02-28'                          # yyyy-mm-dd format\n",
    "topic = 'FreedomWorks'\n",
    "main_account = 'FreedomWorks'\n",
    "\n",
    "nest_asyncio.apply()"
   ]
  },
  {
   "cell_type": "code",
   "execution_count": null,
   "metadata": {},
   "outputs": [],
   "source": [
    "main_acc(start, end, topic, main_account, directory)"
   ]
  },
  {
   "cell_type": "markdown",
   "metadata": {},
   "source": [
    "#### 1.2 Execution"
   ]
  },
  {
   "cell_type": "code",
   "execution_count": null,
   "metadata": {
    "scrolled": true
   },
   "outputs": [],
   "source": [
    "create_bubble(start, end, topic, main_account, directory)"
   ]
  },
  {
   "cell_type": "markdown",
   "metadata": {},
   "source": [
    "#### 1.3 Shift Timeframe of Old Bubble"
   ]
  },
  {
   "cell_type": "code",
   "execution_count": null,
   "metadata": {
    "scrolled": true
   },
   "outputs": [],
   "source": [
    "oldbubble_file = 'F:/twintscrapes/FreedomWorks/final_no_duplicates.csv'\n",
    "topic = 'FreedomWorks_02_21_oldaccs'\n",
    "oldbubble_newtime(start, end, topic, oldbubble_file, directory)"
   ]
  },
  {
   "cell_type": "markdown",
   "metadata": {},
   "source": [
    "#### 1.4 Other Start (Stages 1 and 2)"
   ]
  },
  {
   "cell_type": "code",
   "execution_count": null,
   "metadata": {
    "scrolled": true
   },
   "outputs": [],
   "source": [
    "otherstart = 'NoahWWall'\n",
    "create_bubble_otherstart(start, end, topic, main_account, directory, otherstart)"
   ]
  },
  {
   "cell_type": "markdown",
   "metadata": {},
   "source": [
    "### 2. Reducing Language Elements and Creating N-Grams\n",
    "\n",
    "#### 2.1 Setup"
   ]
  },
  {
   "cell_type": "code",
   "execution_count": null,
   "metadata": {},
   "outputs": [],
   "source": [
    "twint_dir = 'F:/twintscrapes/'        \n",
    "joint_dir = 'F:/covid/'              \n",
    "topic0 = 'FreedomWorks'\n",
    "topic1 = 'GovInslee'\n",
    "n = 3                             # 2 for bigrams, 3 for trigrams\n",
    "\n",
    "a = '’'\n",
    "b = '”'\n",
    "c = '“'"
   ]
  },
  {
   "cell_type": "markdown",
   "metadata": {},
   "source": [
    "#### 2.2 Compute hashtag and mentions list"
   ]
  },
  {
   "cell_type": "code",
   "execution_count": null,
   "metadata": {},
   "outputs": [],
   "source": [
    "clean_hashtags_mentions(twint_dir, joint_dir, topic0, topic1)"
   ]
  },
  {
   "cell_type": "markdown",
   "metadata": {},
   "source": [
    "#### 2.3 Execution"
   ]
  },
  {
   "cell_type": "code",
   "execution_count": null,
   "metadata": {
    "scrolled": true
   },
   "outputs": [],
   "source": [
    "ngrams(twint_dir, topic0, joint_dir, n, a, b, c)"
   ]
  },
  {
   "cell_type": "code",
   "execution_count": null,
   "metadata": {},
   "outputs": [],
   "source": [
    "ngrams(twint_dir, topic1, joint_dir, n, a, b, c)"
   ]
  },
  {
   "cell_type": "markdown",
   "metadata": {},
   "source": [
    "### 3. Phrases\n",
    "\n",
    "#### 3.1 Setup"
   ]
  },
  {
   "cell_type": "code",
   "execution_count": null,
   "metadata": {},
   "outputs": [],
   "source": [
    "joint_dir = 'F:/covid/'      \n",
    "topic = 'FreedomWorks'\n",
    "n = 3                       # 2 for bigrams, 3 for trigrams"
   ]
  },
  {
   "cell_type": "markdown",
   "metadata": {},
   "source": [
    "#### 3.2 Execution"
   ]
  },
  {
   "cell_type": "code",
   "execution_count": null,
   "metadata": {
    "scrolled": true
   },
   "outputs": [],
   "source": [
    "compute_phrases(joint_dir, topic, n)"
   ]
  },
  {
   "cell_type": "markdown",
   "metadata": {},
   "source": [
    "### 4. Chi-Squared (Gentzkow & Shapiro, 2010)\n",
    "\n",
    "#### 4.1 Setup"
   ]
  },
  {
   "cell_type": "code",
   "execution_count": null,
   "metadata": {},
   "outputs": [],
   "source": [
    "topic0 = 'bluelivesmatter'\n",
    "topic1 = 'blacklivesmatter'\n",
    "joint_dir = 'F:/black_blue/'      \n",
    "n = 3                             # 2 for bigrams, 3 for trigrams\n",
    "select = 150\n",
    "a = '’'\n",
    "b = '”'\n",
    "c = '“'"
   ]
  },
  {
   "cell_type": "markdown",
   "metadata": {},
   "source": [
    "#### 4.2 Execution"
   ]
  },
  {
   "cell_type": "code",
   "execution_count": null,
   "metadata": {},
   "outputs": [],
   "source": [
    "chi_and_select(topic0, topic1, joint_dir, n, select, a, b, c)"
   ]
  },
  {
   "cell_type": "markdown",
   "metadata": {},
   "source": [
    "### 5. GDELT\n",
    "\n",
    "#### 5.1 Setup"
   ]
  },
  {
   "cell_type": "code",
   "execution_count": null,
   "metadata": {},
   "outputs": [],
   "source": [
    "gdelt_dir = 'F:/gdelt/'\n",
    "domain = 'cnn.com'\n",
    "start = '210201'                                                      # in yymmdd format\n",
    "end = '210228'                                                        # in yymmdd format\n",
    "selected_counts_path = 'F:/black_blue_02_21_oldaccs/selected_counts_2grams.csv'\n",
    "joint_dir = 'F:/black_blue_02_21_oldaccs/'                            "
   ]
  },
  {
   "cell_type": "markdown",
   "metadata": {},
   "source": [
    "#### 5.2 Total article count"
   ]
  },
  {
   "cell_type": "code",
   "execution_count": null,
   "metadata": {
    "scrolled": true
   },
   "outputs": [],
   "source": [
    "all_articles(domain, start, end, gdelt_dir)"
   ]
  },
  {
   "cell_type": "markdown",
   "metadata": {},
   "source": [
    "#### 5.3 Search phrases"
   ]
  },
  {
   "cell_type": "code",
   "execution_count": null,
   "metadata": {
    "scrolled": true
   },
   "outputs": [],
   "source": [
    "all_phrases(domain, start, end, selected_counts_path, gdelt_dir, joint_dir)"
   ]
  },
  {
   "cell_type": "markdown",
   "metadata": {},
   "source": [
    "### 6. Measuring Slant (Gentzkow & Shapiro (2010))\n",
    "\n",
    "#### 6.1 Setup"
   ]
  },
  {
   "cell_type": "code",
   "execution_count": null,
   "metadata": {},
   "outputs": [],
   "source": [
    "joint_dir = 'F:/black_blue/'                                          \n",
    "gdelt_dir = 'F:/gdelt/'\n",
    "n = 2\n",
    "topic0 = 'bluelivesmatter'\n",
    "topic1 = 'blacklivesmatter'\n",
    "start = '200525'                                                      # in yymmdd format\n",
    "end = '200625'                                                        # in yymmdd format\n",
    "domains = ['cnn.com', 'foxnews.com', 'news.yahoo.com', 'huffpost.com', 'nytimes.com', 'washingtonpost.com', 'apnews.com', 'alternet.org', 'breitbart.com', 'infowars.com', 'newsweek.com', 'oann.com', 'npr.org', 'usatoday.com']"
   ]
  },
  {
   "cell_type": "markdown",
   "metadata": {},
   "source": [
    "#### 6.2 Generating Coefficients"
   ]
  },
  {
   "cell_type": "code",
   "execution_count": null,
   "metadata": {},
   "outputs": [],
   "source": [
    "gs2010_reg1(joint_dir, n, topic0, topic1)"
   ]
  },
  {
   "cell_type": "markdown",
   "metadata": {},
   "source": [
    "#### 6.3 Predict Ideologies of Twitter Accounts"
   ]
  },
  {
   "cell_type": "code",
   "execution_count": null,
   "metadata": {},
   "outputs": [],
   "source": [
    "gs2010_est_twitter_ideologies(joint_dir, n)"
   ]
  },
  {
   "cell_type": "markdown",
   "metadata": {},
   "source": [
    "#### 6.4 Measuring Slant of Online News Outlets"
   ]
  },
  {
   "cell_type": "code",
   "execution_count": null,
   "metadata": {
    "scrolled": true
   },
   "outputs": [],
   "source": [
    "gs2010_ideology_estimates(domains, start, end, joint_dir, gdelt_dir, n)"
   ]
  },
  {
   "cell_type": "markdown",
   "metadata": {},
   "source": [
    "### 7. Measuring Slant (Adjusted Gentzkow & Shapiro (2010))\n",
    "\n",
    "(requires section 6.2 to be run)"
   ]
  },
  {
   "cell_type": "code",
   "execution_count": null,
   "metadata": {},
   "outputs": [],
   "source": [
    "gs2010_ideology_estimates_adj(domains, start, end, joint_dir, gdelt_dir, n)"
   ]
  },
  {
   "cell_type": "markdown",
   "metadata": {},
   "source": [
    "### 8. Measuring Slant (Jensen et al. (2012))\n",
    "\n",
    "(requires section 6.2 to be run)\n",
    "\n",
    "#### 8.1 Setup"
   ]
  },
  {
   "cell_type": "code",
   "execution_count": null,
   "metadata": {},
   "outputs": [],
   "source": [
    "joint_dir = 'F:/covid/'\n",
    "gdelt_dir = 'F:/gdelt/'\n",
    "n = 2\n",
    "start = '210201'\n",
    "end = '210228'\n",
    "domains = ['cnn.com', 'foxnews.com', 'news.yahoo.com', 'huffpost.com', 'nytimes.com', 'washingtonpost.com', 'apnews.com', 'alternet.org', 'breitbart.com', 'infowars.com', 'newsweek.com', 'oann.com', 'npr.org', 'usatoday.com']"
   ]
  },
  {
   "cell_type": "markdown",
   "metadata": {},
   "source": [
    "#### 8.2 Generate Coefficients"
   ]
  },
  {
   "cell_type": "code",
   "execution_count": null,
   "metadata": {},
   "outputs": [],
   "source": [
    "jensen2012_betas(joint_dir, n)"
   ]
  },
  {
   "cell_type": "markdown",
   "metadata": {},
   "source": [
    "#### 8.3 Predict Ideologies of Twitter Accounts"
   ]
  },
  {
   "cell_type": "code",
   "execution_count": null,
   "metadata": {},
   "outputs": [],
   "source": [
    "jensen2012_est_twitter_ideologies(joint_dir, n)"
   ]
  },
  {
   "cell_type": "markdown",
   "metadata": {},
   "source": [
    "#### 8.4 Measuring Slant of Online News Outlets"
   ]
  },
  {
   "cell_type": "code",
   "execution_count": null,
   "metadata": {},
   "outputs": [],
   "source": [
    "jensen2012_ideology_estimate(domains, start, end, joint_dir, gdelt_dir, n)"
   ]
  },
  {
   "cell_type": "markdown",
   "metadata": {},
   "source": [
    "### 9. Finding Omitted Information\n",
    "\n",
    "#### 9.1 Setup"
   ]
  },
  {
   "cell_type": "code",
   "execution_count": null,
   "metadata": {},
   "outputs": [],
   "source": [
    "gdelt_dir = 'F:/gdelt/'\n",
    "start = '200415'\n",
    "end = '200515'\n",
    "domain = 'usatoday.com'\n",
    "joint_dir = 'F:/covid/'\n",
    "a = '’'\n",
    "b = '”'\n",
    "c = '“'"
   ]
  },
  {
   "cell_type": "markdown",
   "metadata": {},
   "source": [
    "#### 9.2 Scrape Articles"
   ]
  },
  {
   "cell_type": "code",
   "execution_count": null,
   "metadata": {
    "scrolled": true
   },
   "outputs": [],
   "source": [
    "scrape_articles(domain, gdelt_dir, start, end)"
   ]
  },
  {
   "cell_type": "markdown",
   "metadata": {},
   "source": [
    "#### 9.3 Prepare Data"
   ]
  },
  {
   "cell_type": "code",
   "execution_count": null,
   "metadata": {},
   "outputs": [],
   "source": [
    "prep_omit(gdelt_dir, domain, start, end)"
   ]
  },
  {
   "cell_type": "markdown",
   "metadata": {},
   "source": [
    "#### 9.4 Stem Articles"
   ]
  },
  {
   "cell_type": "code",
   "execution_count": null,
   "metadata": {
    "scrolled": true
   },
   "outputs": [],
   "source": [
    "stem_articles(gdelt_dir, joint_dir, domain, start, end, a, b, c)"
   ]
  },
  {
   "cell_type": "markdown",
   "metadata": {},
   "source": [
    "#### 9.5 Make Extreme Datasets"
   ]
  },
  {
   "cell_type": "code",
   "execution_count": null,
   "metadata": {},
   "outputs": [],
   "source": [
    "domains = ['breitbart.com', 'alternet.org']\n",
    "\n",
    "extreme = 0\n",
    "make_extreme(domains, joint_dir, extreme)"
   ]
  },
  {
   "cell_type": "code",
   "execution_count": null,
   "metadata": {},
   "outputs": [],
   "source": [
    "domains = ['cnn.com']\n",
    "\n",
    "extreme = 1\n",
    "make_extreme(domains, joint_dir, extreme)"
   ]
  },
  {
   "cell_type": "markdown",
   "metadata": {},
   "source": [
    "#### 9.6 N-grams"
   ]
  },
  {
   "cell_type": "code",
   "execution_count": null,
   "metadata": {},
   "outputs": [],
   "source": [
    "n = 2\n",
    "extreme=0\n",
    "\n",
    "stemmed = pd.read_csv(joint_dir+'omit/extreme'+str(extreme)+'_stemmed.csv')\n",
    "make_ngrams(stemmed, 'text', n, joint_dir+'omit/', 'extreme'+str(extreme))"
   ]
  },
  {
   "cell_type": "code",
   "execution_count": null,
   "metadata": {},
   "outputs": [],
   "source": [
    "extreme=1\n",
    "\n",
    "stemmed = pd.read_csv(joint_dir+'omit/extreme'+str(extreme)+'_stemmed.csv')\n",
    "make_ngrams(stemmed, 'text', n, joint_dir+'omit/', 'extreme'+str(extreme))"
   ]
  },
  {
   "cell_type": "markdown",
   "metadata": {},
   "source": [
    "#### 9.7 Phrases  "
   ]
  },
  {
   "cell_type": "code",
   "execution_count": null,
   "metadata": {
    "scrolled": true
   },
   "outputs": [],
   "source": [
    "extreme=0\n",
    "compute_phrases_omit(joint_dir, 'extreme'+str(extreme), n)"
   ]
  },
  {
   "cell_type": "code",
   "execution_count": null,
   "metadata": {
    "scrolled": true
   },
   "outputs": [],
   "source": [
    "extreme=1\n",
    "compute_phrases_omit(joint_dir, 'extreme'+str(extreme), n)"
   ]
  },
  {
   "cell_type": "markdown",
   "metadata": {},
   "source": [
    "#### 9.8 Chi-squared"
   ]
  },
  {
   "cell_type": "code",
   "execution_count": null,
   "metadata": {},
   "outputs": [],
   "source": [
    "chi_squared_omit(joint_dir, n)"
   ]
  },
  {
   "cell_type": "markdown",
   "metadata": {},
   "source": [
    "#### 9.9 Exclude Phrases Used to Measure Slant"
   ]
  },
  {
   "cell_type": "code",
   "execution_count": null,
   "metadata": {},
   "outputs": [],
   "source": [
    "omit_exclude(joint_dir, n)"
   ]
  }
 ],
 "metadata": {
  "kernelspec": {
   "display_name": "Python 3",
   "language": "python",
   "name": "python3"
  },
  "language_info": {
   "codemirror_mode": {
    "name": "ipython",
    "version": 3
   },
   "file_extension": ".py",
   "mimetype": "text/x-python",
   "name": "python",
   "nbconvert_exporter": "python",
   "pygments_lexer": "ipython3",
   "version": "3.8.5"
  }
 },
 "nbformat": 4,
 "nbformat_minor": 4
}
